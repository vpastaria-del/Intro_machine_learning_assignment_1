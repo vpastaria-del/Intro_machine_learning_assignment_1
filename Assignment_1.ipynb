{
 "cells": [
  {
   "cell_type": "markdown",
   "id": "e1ccce14-aa23-4714-9cae-1bcd18e08258",
   "metadata": {},
   "source": [
    "## Assignment 1 (50 marks)\n",
    "#### =====================================================================================================\n",
    "### Deadline: 09/14 11:59 pm\n",
    "#### ====================================================================================================="
   ]
  },
  {
   "cell_type": "markdown",
   "id": "eb0d31af-2540-4440-b94f-a0539740f4b9",
   "metadata": {},
   "source": [
    "## Decision Tree Classification"
   ]
  },
  {
   "attachments": {},
   "cell_type": "markdown",
   "id": "1943b8d4",
   "metadata": {},
   "source": [
    "### Problem 1 (25 marks)\n",
    "\n",
    "`lab01_dataset_1.csv` contains a mixture of numerical and categorical data. Your task will be to write a function `my_ID3()` (without using the sklearn decision tree library) which can create a decision tree for the given dataset using the ID3 algorithm."
   ]
  },
  {
   "attachments": {},
   "cell_type": "markdown",
   "id": "e4d239a4",
   "metadata": {},
   "source": [
    "### 1.a (5 marks)\n",
    "\n",
    "ID3 cannot handle continuous numerical data. Perform the necessary operations to convert the continuous-valued attribute to boolean attributes (refer to page 40 of Decision Tree.pdf). Do not use any of the sklearn library for this task. Display the updated dataset after handling continuous-valued attribute."
   ]
  },
  {
   "cell_type": "code",
   "execution_count": 4,
   "id": "6753df8c",
   "metadata": {},
   "outputs": [
    {
     "name": "stdout",
     "output_type": "stream",
     "text": [
      "Threshold used for Score: 69.0\n",
      "       Mood  Effort  Score Output  Score_high\n",
      "0     Happy     Low     35    Yes       False\n",
      "1     Happy  Medium     91     No        True\n",
      "2     Happy    High     52     No       False\n",
      "3   Neutral     Low     83     No        True\n",
      "4   Neutral  Medium     48     No       False\n",
      "5   Neutral    High     61     No       False\n",
      "6       Sad     Low     40    Yes       False\n",
      "7       Sad  Medium     98     No        True\n",
      "8       Sad    High     73    Yes        True\n",
      "9     Happy     Low     44    Yes       False\n",
      "10    Happy  Medium     86     No        True\n",
      "11    Happy    High     39    Yes       False\n",
      "12    Happy     Low     66     No       False\n",
      "13  Neutral  Medium     75    Yes        True\n",
      "14  Neutral    High     50     No       False\n",
      "15      Sad     Low     69     No       False\n",
      "16      Sad  Medium     70    Yes        True\n",
      "17      Sad    High     95     No        True\n",
      "18      Sad     Low     80    Yes        True\n"
     ]
    }
   ],
   "source": [
    "import pandas as pd\n",
    "df = pd.read_csv(\"lab01_dataset_1.csv\")\n",
    "threshold = df[\"Score\"].median() \n",
    "df[\"Score_high\"] = df[\"Score\"] > threshold\n",
    "print(\"Threshold used for Score:\", threshold)\n",
    "print(df)\n"
   ]
  },
  {
   "attachments": {},
   "cell_type": "markdown",
   "id": "7baf7d31",
   "metadata": {},
   "source": [
    "### 1.b (6 marks)\n",
    "\n",
    "Next, you will have to ensure that the newly obtained dataset is optimal and free of errors. Take appropriate actions based on the outcomes of the following steps:\n",
    "\n",
    "Check if the dataset has any missing values. (2 marks)<br>\n",
    "Check if the dataset has any redundant or repeated input sample. (2 marks)<br>\n",
    "Check if the dataset has any contradicting <input, output> pairs. (2 marks)\n",
    "\n",
    "Do note that you need to perform all the above steps programmatically and not simply by visual examination."
   ]
  },
  {
   "cell_type": "code",
   "execution_count": 15,
   "id": "a6104789",
   "metadata": {},
   "outputs": [
    {
     "name": "stdout",
     "output_type": "stream",
     "text": [
      "{'thresh': np.float64(69.0), 'has_missing': np.False_, 'missing_counts': {'Mood': 0, 'Effort': 0, 'Score': 0, 'Output': 0, 'Score_high': 0}, 'num_dupes': 0, 'dupe_examples': [], 'num_contr': 0, 'contradictions': {}}\n",
      "\n",
      "=== Final Cleaned DataFrame ===\n",
      "       Mood  Effort Output  Score_high\n",
      "0     Happy     Low    Yes       False\n",
      "1     Happy  Medium     No        True\n",
      "2     Happy    High     No       False\n",
      "3   Neutral     Low     No        True\n",
      "4   Neutral  Medium     No       False\n",
      "5   Neutral    High     No       False\n",
      "6       Sad     Low    Yes       False\n",
      "7       Sad  Medium     No        True\n",
      "8       Sad    High    Yes        True\n",
      "9     Happy     Low    Yes       False\n",
      "10    Happy  Medium     No        True\n",
      "11    Happy    High    Yes       False\n",
      "12    Happy     Low     No       False\n",
      "13  Neutral  Medium    Yes        True\n",
      "14  Neutral    High     No       False\n",
      "15      Sad     Low     No       False\n",
      "16      Sad  Medium    Yes        True\n",
      "17      Sad    High     No        True\n",
      "18      Sad     Low    Yes        True\n"
     ]
    }
   ],
   "source": [
    "import pandas as pd\n",
    "\n",
    "miss = df.isnull().sum()\n",
    "has_miss = miss.sum() > 0\n",
    "y = df.columns[-1]\n",
    "X = [c for c in df.columns if c != y]\n",
    "\n",
    "dupes = df.duplicated(subset=X, keep=False)\n",
    "dupe_rows = df[dupes].sort_values(by=X)\n",
    "grp = df.groupby(X)[y].nunique()\n",
    "contr = grp[grp > 1]\n",
    "\n",
    "out = {\n",
    "    \"thresh\": threshold,\n",
    "    \"has_missing\": has_miss,\n",
    "    \"missing_counts\": miss.to_dict(),\n",
    "    \"num_dupes\": int(dupes.sum()),\n",
    "    \"dupe_examples\": dupe_rows.head(10).to_dict(orient=\"records\"),\n",
    "    \"num_contr\": int(contr.shape[0]),\n",
    "    \"contradictions\": contr.to_dict()\n",
    "}\n",
    "print(out)\n",
    "\n",
    "df_new = df.drop_duplicates(subset=X, keep=\"first\")\n",
    "bad = contr.index\n",
    "if len(bad) > 0:\n",
    "    mask = df_new[X].apply(tuple, axis=1).isin(bad)\n",
    "    df_new = df_new[~mask]\n",
    "\n",
    "print(\"\\n=== Final Cleaned DataFrame ===\")\n",
    "df_new = df_new.drop(columns=[\"Score\"]).copy()\n",
    "print(df_new)\n"
   ]
  },
  {
   "attachments": {},
   "cell_type": "markdown",
   "id": "d3a8a070",
   "metadata": {},
   "source": [
    "### 1.c (10 marks)\n",
    "\n",
    "Your function `my_ID3()` should operate in a manner such that after ever round of decision making, it will output the attributes and its associated gain, with a message stating “Attribute X with Gain = Y is chosen as the decision attribute”. You can obviously create other functions as needed for completing `my_ID3()`."
   ]
  },
  {
   "cell_type": "code",
   "execution_count": 16,
   "id": "701a4e69",
   "metadata": {},
   "outputs": [
    {
     "name": "stdout",
     "output_type": "stream",
     "text": [
      "Gain(Effort) = 0.184751\n",
      "Gain(Mood) = 0.106504\n",
      "Gain(Output) = 0.001457\n",
      "Attribute \"Effort\" with Gain = 0.184751 is chosen as the decision attribute\n",
      "Gain(Mood) = 0.918296\n",
      "Gain(Output) = 0.044110\n",
      "Attribute \"Mood\" with Gain = 0.918296 is chosen as the decision attribute\n",
      "Gain(Mood) = 0.469565\n",
      "Gain(Output) = 0.005978\n",
      "Attribute \"Mood\" with Gain = 0.469565 is chosen as the decision attribute\n",
      "Gain(Output) = 0.251629\n",
      "Attribute \"Output\" with Gain = 0.251629 is chosen as the decision attribute\n",
      "Gain(Mood) = 0.316689\n",
      "Gain(Output) = 0.109170\n",
      "Attribute \"Mood\" with Gain = 0.316689 is chosen as the decision attribute\n",
      "Gain(Output) = 1.000000\n",
      "Attribute \"Output\" with Gain = 1.000000 is chosen as the decision attribute\n",
      "{'Effort': {'High': {'Mood': {'Happy': np.False_, 'Neutral': np.False_, 'Sad': np.True_}}, 'Low': {'Mood': {'Happy': np.False_, 'Neutral': np.True_, 'Sad': {'Output': {'No': np.False_, 'Yes': np.False_}}}}, 'Medium': {'Mood': {'Happy': np.True_, 'Neutral': {'Output': {'No': np.False_, 'Yes': np.True_}}, 'Sad': np.True_}}}}\n"
     ]
    }
   ],
   "source": [
    "import numpy as np\n",
    "import pandas as pd\n",
    "\n",
    "def H(y: pd.Series) -> float:\n",
    "    cnt = y.value_counts()\n",
    "    p = cnt / cnt.sum()\n",
    "    return float(-(p * np.log2(p + 1e-12)).sum())\n",
    "\n",
    "def gain(df: pd.DataFrame, col: str, ycol: str) -> float:\n",
    "    H0 = H(df[ycol])\n",
    "    n = len(df)\n",
    "    Hc = 0.0\n",
    "    for _, sub in df.groupby(col):\n",
    "        Hc += (len(sub) / n) * H(sub[ycol])\n",
    "    return H0 - Hc\n",
    "\n",
    "def majority(y: pd.Series):\n",
    "    return y.value_counts().idxmax()\n",
    "\n",
    "def my_ID3(data: pd.DataFrame):\n",
    "    ycol = data.columns[-1]\n",
    "    feats = [c for c in data.columns if c != ycol]\n",
    "\n",
    "    if data[ycol].nunique() == 1:\n",
    "        return data[ycol].iloc[0]\n",
    "    if len(feats) == 0:\n",
    "        return majority(data[ycol])\n",
    "\n",
    "    gains = {f: gain(data, f, ycol) for f in feats}\n",
    "    for f, g in sorted(gains.items(), key=lambda kv: kv[1], reverse=True):\n",
    "        print(f\"Gain({f}) = {g:.6f}\")\n",
    "    best = max(gains, key=gains.get)\n",
    "    gbest = gains[best]\n",
    "    print(f'Attribute \"{best}\" with Gain = {gbest:.6f} is chosen as the decision attribute')\n",
    "\n",
    "    T = {best: {}}\n",
    "    for val, sub in data.groupby(best):\n",
    "        T[best][val] = my_ID3(sub.drop(columns=[best]))\n",
    "    return T\n",
    "\n",
    "tree = my_ID3(df_clean)\n",
    "print(tree)\n"
   ]
  },
  {
   "attachments": {},
   "cell_type": "markdown",
   "id": "94c6b633-179b-4572-bec9-6a8e55801309",
   "metadata": {},
   "source": [
    "### 1.d (4 marks)\n",
    "\n",
    "Display the decision tree. The representation of the decision tree is upto you. You can choose either a textual representation or a graphical one; either is fine."
   ]
  },
  {
   "cell_type": "code",
   "execution_count": 17,
   "id": "52dcc669-6c8d-463d-a494-8b6fb7e8b938",
   "metadata": {},
   "outputs": [
    {
     "name": "stdout",
     "output_type": "stream",
     "text": [
      "=== Decision Tree (Textual) ===\n",
      "[Effort = High]\n",
      "  [Mood = Happy]\n",
      "    -> False\n",
      "  [Mood = Neutral]\n",
      "    -> False\n",
      "  [Mood = Sad]\n",
      "    -> True\n",
      "[Effort = Low]\n",
      "  [Mood = Happy]\n",
      "    -> False\n",
      "  [Mood = Neutral]\n",
      "    -> True\n",
      "  [Mood = Sad]\n",
      "    [Output = No]\n",
      "      -> False\n",
      "    [Output = Yes]\n",
      "      -> False\n",
      "[Effort = Medium]\n",
      "  [Mood = Happy]\n",
      "    -> True\n",
      "  [Mood = Neutral]\n",
      "    [Output = No]\n",
      "      -> False\n",
      "    [Output = Yes]\n",
      "      -> True\n",
      "  [Mood = Sad]\n",
      "    -> True\n"
     ]
    }
   ],
   "source": [
    "def show_tree(T, tab=\"\"):\n",
    "    if not isinstance(T, dict):\n",
    "        print(tab + f\"-> {T}\")\n",
    "        return\n",
    "    for a, br in T.items():\n",
    "        for v, sub in br.items():\n",
    "            print(tab + f\"[{a} = {v}]\")\n",
    "            show_tree(sub, tab + \"  \")\n",
    "\n",
    "print(\"=== Decision Tree (Textual) ===\")\n",
    "show_tree(tree)\n"
   ]
  },
  {
   "attachments": {},
   "cell_type": "markdown",
   "id": "8fa5fd65",
   "metadata": {},
   "source": [
    "### Problem 2 (25 marks)\n",
    "\n",
    "`lab01_dataset_2.csv` has a mixture of numerical and categorical data. For this problem, you will use sklearn's [`DecisionTreeClassifier`](https://scikit-learn.org/stable/modules/generated/sklearn.tree.DecisionTreeClassifier.html) for the classification task."
   ]
  },
  {
   "cell_type": "markdown",
   "id": "d5855f31-3b64-4c32-98ad-830e31430758",
   "metadata": {},
   "source": [
    "### 2.a (5 marks)\n",
    "\n",
    "Encode all the categorial data into numerical data using `One-hot Encoding` and display the new dataset."
   ]
  },
  {
   "cell_type": "code",
   "execution_count": null,
   "id": "670ddd32",
   "metadata": {},
   "outputs": [],
   "source": []
  },
  {
   "attachments": {},
   "cell_type": "markdown",
   "id": "538d2d0c",
   "metadata": {},
   "source": [
    "### 2.b (10 marks)\n",
    "\n",
    "Using the encoded dataset, perform the supervised learning using [`DecisionTreeClassifier`](https://scikit-learn.org/stable/modules/generated/sklearn.tree.DecisionTreeClassifier.html). Employ the [`train_test_split`](https://scikit-learn.org/stable/modules/generated/sklearn.model_selection.train_test_split.html) of 80-20 during the training."
   ]
  },
  {
   "cell_type": "code",
   "execution_count": null,
   "id": "99c15f46",
   "metadata": {},
   "outputs": [],
   "source": []
  },
  {
   "attachments": {},
   "cell_type": "markdown",
   "id": "ce9df279",
   "metadata": {},
   "source": [
    "### 2.c (5 marks)\n",
    "\n",
    "After the training is complete, show the results by predicting the class of the test set. Display the results of the prediction and test set side-by-side."
   ]
  },
  {
   "cell_type": "code",
   "execution_count": null,
   "id": "f038e83d",
   "metadata": {},
   "outputs": [],
   "source": []
  },
  {
   "attachments": {},
   "cell_type": "markdown",
   "id": "efe8c0ec",
   "metadata": {},
   "source": [
    "### 2.d (5 marks)\n",
    "\n",
    "Display the decision tree; it can be either a textual representation or a graphical representation."
   ]
  },
  {
   "cell_type": "code",
   "execution_count": null,
   "id": "f9c0eed4",
   "metadata": {},
   "outputs": [],
   "source": []
  }
 ],
 "metadata": {
  "kernelspec": {
   "display_name": "Python 3",
   "language": "python",
   "name": "python3"
  },
  "language_info": {
   "codemirror_mode": {
    "name": "ipython",
    "version": 3
   },
   "file_extension": ".py",
   "mimetype": "text/x-python",
   "name": "python",
   "nbconvert_exporter": "python",
   "pygments_lexer": "ipython3",
   "version": "3.13.7"
  }
 },
 "nbformat": 4,
 "nbformat_minor": 5
}
